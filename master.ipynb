{
  "nbformat": 4,
  "nbformat_minor": 0,
  "metadata": {
    "colab": {
      "name": "master.ipynb",
      "provenance": [],
      "collapsed_sections": [],
      "authorship_tag": "ABX9TyPWJAohcDMNVZQ+sQDVcnWq",
      "include_colab_link": true
    },
    "kernelspec": {
      "name": "python3",
      "display_name": "Python 3"
    },
    "language_info": {
      "name": "python"
    }
  },
  "cells": [
    {
      "cell_type": "markdown",
      "metadata": {
        "id": "view-in-github",
        "colab_type": "text"
      },
      "source": [
        "<a href=\"https://colab.research.google.com/github/shokru/Green_Fi/blob/main/master.ipynb\" target=\"_parent\"><img src=\"https://colab.research.google.com/assets/colab-badge.svg\" alt=\"Open In Colab\"/></a>"
      ]
    },
    {
      "cell_type": "markdown",
      "metadata": {
        "id": "PC3fD_QyvX1x"
      },
      "source": [
        "Overview of a course on the 4Es:\n",
        "# Energy, Emissions, Economy & Environment\n",
        "\n",
        "## Overview\n",
        "This notebook is the central document of a course dedicated to the impact of **economic activities** on **global warming**.   \n",
        "It's purpose, by design and function, is purely **pedagogical**.  \n",
        "It aims to provide open source material and analysis on the links between human production, emissions and temperature trends over the past years and decades.  \n",
        "Basically, the process we follow is based on the following scheme which summarizes the (causal) relationships between the variables of interest.\n",
        "\n",
        "![](http://www.gcoqueret.com/files/misc/carbon/carbon_scheme.png)"
      ]
    },
    {
      "cell_type": "markdown",
      "metadata": {
        "id": "i-qS2eJYBn8y"
      },
      "source": [
        "## Notebook structure\n",
        "\n",
        "The material consists mainly of Jupyter Notebooks (like this one) hosted on the **Google Colab** platform.  \n",
        "In order to simplifiy the content of the notebooks (e.g., not having too many variables), the analysis was split in blocks.  \n",
        "Each block is focused on the link between two types of variables (see diagram below).  \n",
        "The links to these **notebooks** (the heart of the course) can be found below:\n",
        "\n",
        "\n",
        "- [energy and the econoomy (GDP)](https://colab.research.google.com/drive/1SD4wmbI5REYrwXP-npuMEmo3WUDtpKhS?usp=sharing) \n",
        "- [energy and emissions (carbon and GHG)](https://colab.research.google.com/drive/1cGvqbKHAnQxKx-chVqppkDu93th50YPN?usp=sharing)\n",
        "- [economy and emissions](https://colab.research.google.com/drive/1O3rVphHenJkcx5J1gYhBm0TMtOFMvWY6?usp=sharing)    \n",
        "- [economy and temperature](https://colab.research.google.com/drive/1j7B-hCNkZAwzfTp7G0LPwb1THnzk4EnG?usp=sharing)\n",
        "\n",
        "![](http://www.gcoqueret.com/files/misc/carbon/carbon_summary.png)\n",
        "\n"
      ]
    },
    {
      "cell_type": "markdown",
      "metadata": {
        "id": "8Hik0ZCaDZBK"
      },
      "source": [
        "## The Kaya identity\n",
        "\n",
        "The **Kaya identity** was developed by Japanese economists Yoichi Kaya and Keiichi Yokobori in the 1990s. Its purpose is to decompose $CO_2$ emissions into simple chain blocks that are responsible for them. Its statement is:\n",
        "\n",
        "$CO_2=POP \\times \\frac{GDP}{POP} \\times \\frac{E}{GDP} \\times \\frac{CO_2}{E},$  \n",
        "where $E$ is energy, $GDP$ is economic output and $POP$ is population. Thus:  \n",
        "- $\\frac{CO_2}{E}$ is how much $CO_2$ we need to produce a given amount of energy;  \n",
        "- $\\frac{E}{GDP}$ is how much energy we need to create economic values;  \n",
        "- $\\frac{GDP}{POP}$, GDP per capita, is a proxy for aggregate standard of living.  \n",
        "\n",
        "Therefore, mechanically, if we want to **reduce emissions**, we have to curtail one or several of these terms. Here are some comments:\n",
        "\n",
        "- $\\frac{CO_2}{E}$: this requires shifting energy production to non carbon-based sources (nuclear, renewables);  \n",
        "- $\\frac{E}{GDP}$: this means being able to produce more efficiently, with lower energy input;  \n",
        "- $\\frac{GDP}{POP}$: this implies to accept possibly lower standards of living (e.g., travelling less, eating less meat, buying fewer clothes, etc. - consuming less in short);\n",
        "- $POP$: this one is easy to understand...\n"
      ]
    },
    {
      "cell_type": "markdown",
      "metadata": {
        "id": "jjf1QqOyMtgV"
      },
      "source": [
        "## The work of Nordhaus\n",
        "\n",
        "William Nordhaus is the recipient of the 2018 **Nobel Prize** in Economics. He was rewarded for his work on the relationship between the economy and global warming. He \"invented\" the **DICE model** (Dynamic Integrated model of Climate and the Economy), which we briefly summarize below.\n",
        "\n",
        "The model can be broken done into several modules. \n",
        "\n",
        "\n",
        "![](http://www.gcoqueret.com/files/misc/carbon/DICE.png)\n",
        "\n"
      ]
    }
  ]
}